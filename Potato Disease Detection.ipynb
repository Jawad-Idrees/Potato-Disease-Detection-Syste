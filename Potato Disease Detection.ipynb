{
 "cells": [
  {
   "cell_type": "code",
   "execution_count": 7,
   "id": "58265a08",
   "metadata": {},
   "outputs": [],
   "source": [
    "import numpy as np\n",
    "import os\n",
    "import cv2\n",
    "import tensorflow as tf\n",
    "from tensorflow import keras\n",
    "from keras.models import Sequential\n",
    "from keras.layers import  Conv2D, Dropout, MaxPooling2D, Dense, Flatten\n",
    "from sklearn.model_selection import train_test_split\n",
    "from keras.callbacks import EarlyStopping\n",
    "\n",
    "from tensorflow.keras.models import Model\n",
    "from tensorflow.keras.layers import Dense, GlobalAveragePooling2D\n",
    "from tensorflow.keras.applications import InceptionResNetV2\n",
    "\n"
   ]
  },
  {
   "cell_type": "markdown",
   "id": "6517dca4",
   "metadata": {},
   "source": [
    "## Loading Dataset"
   ]
  },
  {
   "cell_type": "code",
   "execution_count": 2,
   "id": "0670b1e8",
   "metadata": {},
   "outputs": [
    {
     "name": "stdout",
     "output_type": "stream",
     "text": [
      "Images:  2152\n",
      "Labels:  2152\n",
      "Train images:  1614\n",
      "Train labels:  1614\n",
      "Val1_images:  538\n",
      "Val1_labels:  538\n",
      "Test images:  269\n",
      "Test labels:  269\n",
      "Val2_images:  269\n",
      "Val2_labels:  269\n"
     ]
    }
   ],
   "source": [
    "dataset_dir= \"Potato_Disease_Dataset/PotatoPlants/\"\n",
    "batch_size= 32\n",
    "image_height= 256\n",
    "image_width= 256\n",
    "validation_split= 0.25\n",
    "test_val_split=0.5\n",
    "\n",
    "\n",
    "def load_and_split_dataset(data_dir, validation_split):\n",
    "     \n",
    "    \n",
    "    # List class names\n",
    "    class_names = sorted(os.listdir(data_dir))\n",
    "    \n",
    "    # Prepare data lists\n",
    "    images = []\n",
    "    labels = []\n",
    "    \n",
    "    # Load images and labels\n",
    "    for label, class_name in enumerate(class_names):\n",
    "        class_dir = os.path.join(data_dir, class_name)\n",
    "        for img_name in os.listdir(class_dir):\n",
    "            img_path = os.path.join(class_dir, img_name)\n",
    "            images.append(img_path)\n",
    "            labels.append(label)\n",
    "    \n",
    "    # Convert lists to numpy arrays\n",
    "#     images = np.array(images)\n",
    "#     labels = np.array(labels)\n",
    "    print(\"Images: \",len(images))\n",
    "    print(\"Labels: \",len(labels))\n",
    "    \n",
    "    \n",
    "    # Split data into training and validation sets\n",
    "    train_images, val_images, train_labels, val_labels = train_test_split(\n",
    "        images, labels, test_size=validation_split, stratify=labels\n",
    "    )\n",
    "    print(\"Train images: \",len(train_images))\n",
    "    print(\"Train labels: \", len(train_labels))\n",
    "    print(\"Val1_images: \", len(val_images))\n",
    "    print(\"Val1_labels: \", len(val_labels))\n",
    "    test_images, val2_images, test_labels, val2_labels = train_test_split(\n",
    "        val_images, val_labels, test_size=test_val_split, stratify=val_labels\n",
    "    )\n",
    "    print(\"Test images: \",len(test_images))\n",
    "    print(\"Test labels: \", len(test_labels))\n",
    "    print(\"Val2_images: \", len(val2_images))\n",
    "    print(\"Val2_labels: \", len(val2_labels))\n",
    "    \n",
    "    return train_images, val2_images, train_labels, val2_labels, test_images, test_labels\n",
    "train_images, val_images, train_labels, val_labels, test_images, test_labels=load_and_split_dataset(dataset_dir, validation_split)"
   ]
  },
  {
   "cell_type": "markdown",
   "id": "8cc03bb9",
   "metadata": {},
   "source": [
    "## Data Loading and Normalizing"
   ]
  },
  {
   "cell_type": "code",
   "execution_count": 3,
   "id": "42f0a8eb",
   "metadata": {},
   "outputs": [
    {
     "name": "stdout",
     "output_type": "stream",
     "text": [
      "Train images:  1614\n",
      "Train labels:  1614\n",
      "Train images:  1614\n",
      "Test images:  269\n",
      "Val images:  269\n",
      "Train labels:  1614\n"
     ]
    }
   ],
   "source": [
    "def load_and_process_images(images):\n",
    "    images_array=[]\n",
    "    for image in images:\n",
    "        \n",
    "        image_matrix= cv2.imread(image)\n",
    "        image_matrix= np.divide(image_matrix,255)\n",
    "        images_array.append(image_matrix)\n",
    "    return np.array(images_array)\n",
    "print(\"Train images: \", len(train_images))\n",
    "print(\"Train labels: \", len(train_labels))\n",
    "train_images= load_and_process_images(train_images)\n",
    "val_images= load_and_process_images(val_images)\n",
    "test_images= load_and_process_images(test_images)\n",
    "\n",
    "train_labels= np.array(train_labels)\n",
    "val_labels= np.array(val_labels)\n",
    "test_labels= np.array(test_labels)\n",
    "print(\"Train images: \", len(train_images))\n",
    "print(\"Test images: \", len(test_images))\n",
    "print(\"Val images: \", len(val_images))\n",
    "print(\"Train labels: \", len(train_labels))\n",
    "\n",
    "    "
   ]
  },
  {
   "cell_type": "markdown",
   "id": "3dbc27d0",
   "metadata": {},
   "source": [
    "## The Architecture"
   ]
  },
  {
   "cell_type": "code",
   "execution_count": 26,
   "id": "1e9c5db7",
   "metadata": {},
   "outputs": [],
   "source": [
    "model= Sequential()\n",
    "model.add(Conv2D(2, (3,3), activation='relu', input_shape=(256,256,3) ))\n",
    "model.add(MaxPooling2D(pool_size=(2,2)))\n",
    "          \n",
    "          \n",
    "model.add(Conv2D(4, (3,3), activation='relu'))\n",
    "model.add(MaxPooling2D(pool_size=(2,2)))\n",
    "          \n",
    "          \n",
    "model.add(Conv2D(8, (3,3), activation='relu'))\n",
    "model.add(MaxPooling2D(pool_size=(2,2)))\n",
    "          \n",
    "model.add(Flatten())\n",
    "          \n",
    "model.add(Dense(16, activation='relu'))\n",
    "model.add(Dense(3, activation='softmax'))\n",
    "\n",
    "    \n",
    "                    "
   ]
  },
  {
   "cell_type": "markdown",
   "id": "bc066dec",
   "metadata": {},
   "source": [
    "## Early Stopping"
   ]
  },
  {
   "cell_type": "code",
   "execution_count": 27,
   "id": "d419dd24",
   "metadata": {},
   "outputs": [],
   "source": [
    "early_stopping = EarlyStopping(\n",
    "    monitor='val_accuracy',  # or 'val_accuracy' depending on what you're monitoring\n",
    "    patience=3,  # number of epochs with no improvement to wait before stopping\n",
    "    mode='max',  # 'min' for loss (want to minimize) or 'max' for accuracy (want to maximize)\n",
    "    verbose=1,  # to print out messages\n",
    "    restore_best_weights= True\n",
    ")\n"
   ]
  },
  {
   "cell_type": "markdown",
   "id": "901a6bb8",
   "metadata": {},
   "source": [
    "## Compilation"
   ]
  },
  {
   "cell_type": "code",
   "execution_count": 28,
   "id": "a979bf18",
   "metadata": {},
   "outputs": [],
   "source": [
    "    model.compile(optimizer='adam', loss=\"sparse_categorical_crossentropy\", metrics=['accuracy'])"
   ]
  },
  {
   "cell_type": "markdown",
   "id": "79bbfc07",
   "metadata": {},
   "source": [
    "## Model Fitting"
   ]
  },
  {
   "cell_type": "code",
   "execution_count": 29,
   "id": "f3d79cba",
   "metadata": {},
   "outputs": [
    {
     "name": "stdout",
     "output_type": "stream",
     "text": [
      "Epoch 1/100\n",
      "51/51 [==============================] - 17s 245ms/step - loss: 0.8763 - accuracy: 0.5180 - val_loss: 0.8066 - val_accuracy: 0.7509\n",
      "Epoch 2/100\n",
      "51/51 [==============================] - 8s 158ms/step - loss: 0.6636 - accuracy: 0.7565 - val_loss: 0.5814 - val_accuracy: 0.7881\n",
      "Epoch 3/100\n",
      "51/51 [==============================] - 8s 146ms/step - loss: 0.4612 - accuracy: 0.8463 - val_loss: 0.6301 - val_accuracy: 0.7249\n",
      "Epoch 4/100\n",
      "51/51 [==============================] - 8s 151ms/step - loss: 0.3830 - accuracy: 0.8618 - val_loss: 0.4230 - val_accuracy: 0.8364\n",
      "Epoch 5/100\n",
      "51/51 [==============================] - 9s 169ms/step - loss: 0.3303 - accuracy: 0.8680 - val_loss: 0.4888 - val_accuracy: 0.8067\n",
      "Epoch 6/100\n",
      "51/51 [==============================] - 7s 141ms/step - loss: 0.3519 - accuracy: 0.8625 - val_loss: 0.3455 - val_accuracy: 0.8550\n",
      "Epoch 7/100\n",
      "51/51 [==============================] - 7s 144ms/step - loss: 0.2540 - accuracy: 0.9021 - val_loss: 0.3097 - val_accuracy: 0.8662\n",
      "Epoch 8/100\n",
      "51/51 [==============================] - 9s 169ms/step - loss: 0.2311 - accuracy: 0.9114 - val_loss: 0.3167 - val_accuracy: 0.8662\n",
      "Epoch 9/100\n",
      "51/51 [==============================] - 8s 148ms/step - loss: 0.2028 - accuracy: 0.9213 - val_loss: 0.3194 - val_accuracy: 0.8699\n",
      "Epoch 10/100\n",
      "51/51 [==============================] - 7s 140ms/step - loss: 0.2048 - accuracy: 0.9188 - val_loss: 0.3299 - val_accuracy: 0.8662\n",
      "Epoch 11/100\n",
      "51/51 [==============================] - 7s 143ms/step - loss: 0.1726 - accuracy: 0.9436 - val_loss: 0.3098 - val_accuracy: 0.8810\n",
      "Epoch 12/100\n",
      "51/51 [==============================] - 7s 142ms/step - loss: 0.1562 - accuracy: 0.9455 - val_loss: 0.2455 - val_accuracy: 0.9108\n",
      "Epoch 13/100\n",
      "51/51 [==============================] - 8s 155ms/step - loss: 0.1387 - accuracy: 0.9554 - val_loss: 0.2415 - val_accuracy: 0.9071\n",
      "Epoch 14/100\n",
      "51/51 [==============================] - 9s 177ms/step - loss: 0.1340 - accuracy: 0.9566 - val_loss: 0.2454 - val_accuracy: 0.8922\n",
      "Epoch 15/100\n",
      "51/51 [==============================] - 9s 173ms/step - loss: 0.1509 - accuracy: 0.9424 - val_loss: 0.2685 - val_accuracy: 0.9145\n",
      "Epoch 16/100\n",
      "51/51 [==============================] - 8s 157ms/step - loss: 0.1134 - accuracy: 0.9690 - val_loss: 0.2134 - val_accuracy: 0.9294\n",
      "Epoch 17/100\n",
      "51/51 [==============================] - 8s 159ms/step - loss: 0.1012 - accuracy: 0.9746 - val_loss: 0.2171 - val_accuracy: 0.9182\n",
      "Epoch 18/100\n",
      "51/51 [==============================] - 11s 209ms/step - loss: 0.1259 - accuracy: 0.9579 - val_loss: 0.2598 - val_accuracy: 0.9182\n",
      "Epoch 19/100\n",
      "51/51 [==============================] - 10s 184ms/step - loss: 0.0896 - accuracy: 0.9771 - val_loss: 0.2087 - val_accuracy: 0.9368\n",
      "Epoch 20/100\n",
      "51/51 [==============================] - 8s 148ms/step - loss: 0.0798 - accuracy: 0.9820 - val_loss: 0.2337 - val_accuracy: 0.9331\n",
      "Epoch 21/100\n",
      "51/51 [==============================] - 9s 171ms/step - loss: 0.0719 - accuracy: 0.9851 - val_loss: 0.2108 - val_accuracy: 0.9294\n",
      "Epoch 22/100\n",
      "51/51 [==============================] - ETA: 0s - loss: 0.0723 - accuracy: 0.9876Restoring model weights from the end of the best epoch: 19.\n",
      "51/51 [==============================] - 8s 158ms/step - loss: 0.0723 - accuracy: 0.9876 - val_loss: 0.2334 - val_accuracy: 0.9071\n",
      "Epoch 22: early stopping\n"
     ]
    }
   ],
   "source": [
    "\n",
    "history= model.fit(train_images, train_labels, validation_data=(val_images, val_labels), epochs= 100, batch_size= 32, callbacks=[early_stopping])\n"
   ]
  },
  {
   "cell_type": "markdown",
   "id": "336a6199",
   "metadata": {},
   "source": [
    "## Visualizing Performance"
   ]
  },
  {
   "cell_type": "code",
   "execution_count": 20,
   "id": "bf904323",
   "metadata": {},
   "outputs": [
    {
     "data": {
      "image/png": "[encoded data removed]",
      "text/plain": [
       "<Figure size 640x480 with 1 Axes>"
      ]
     },
     "metadata": {},
     "output_type": "display_data"
    }
   ],
   "source": [
    "import matplotlib.pyplot as plt\n",
    "plt.plot(history.history['accuracy'])\n",
    "plt.plot(history.history['val_accuracy'])\n",
    "plt.title('Model Loss')\n",
    "plt.xlabel('Epoch')\n",
    "plt.ylabel('Loss')\n",
    "plt.legend(['Train', 'Validation'], loc='upper left')\n",
    "plt.show()"
   ]
  },
  {
   "cell_type": "code",
   "execution_count": 66,
   "id": "9c3d657d",
   "metadata": {},
   "outputs": [
    {
     "name": "stdout",
     "output_type": "stream",
     "text": [
      "9/9 [==============================] - 1s 66ms/step\n"
     ]
    }
   ],
   "source": [
    "\n",
    "predictions= model.predict(test_images)"
   ]
  },
  {
   "cell_type": "code",
   "execution_count": 67,
   "id": "28e144e0",
   "metadata": {},
   "outputs": [],
   "source": [
    "predicted=np.argmax(predictions, axis=1)"
   ]
  },
  {
   "cell_type": "code",
   "execution_count": 68,
   "id": "cc80c369",
   "metadata": {},
   "outputs": [
    {
     "name": "stdout",
     "output_type": "stream",
     "text": [
      "9/9 [==============================] - 1s 50ms/step - loss: 0.1804 - accuracy: 0.9368\n"
     ]
    }
   ],
   "source": [
    "test_loss, test_accuracy=model.evaluate(test_images, test_labels)"
   ]
  },
  {
   "cell_type": "markdown",
   "id": "5f856e25",
   "metadata": {},
   "source": [
    "We are able to achieve almost 94% accuracy on test set which isn't bad though there is room to improve. It is also a sign that we have not overfit the data since the difference between train set accuracy  (98%)and test set accuracy is not much."
   ]
  },
  {
   "cell_type": "markdown",
   "id": "03d56f09",
   "metadata": {},
   "source": [
    "## Accuracy testing"
   ]
  },
  {
   "cell_type": "code",
   "execution_count": 69,
   "id": "a629798f",
   "metadata": {},
   "outputs": [
    {
     "name": "stdout",
     "output_type": "stream",
     "text": [
      "              precision    recall  f1-score   support\n",
      "\n",
      "           0       0.94      1.00      0.97       125\n",
      "           1       0.96      0.91      0.93       125\n",
      "           2       0.76      0.68      0.72        19\n",
      "\n",
      "    accuracy                           0.94       269\n",
      "   macro avg       0.89      0.87      0.88       269\n",
      "weighted avg       0.94      0.94      0.94       269\n",
      "\n"
     ]
    }
   ],
   "source": [
    "from sklearn.metrics import classification_report, confusion_matrix\n",
    "print(classification_report(test_labels, predicted))"
   ]
  },
  {
   "cell_type": "markdown",
   "id": "413eb0a5",
   "metadata": {},
   "source": [
    "## Now Moving towars Transfer Learning.\n"
   ]
  },
  {
   "cell_type": "markdown",
   "id": "de49bcb3",
   "metadata": {},
   "source": [
    "I have provided all the code for transfer learning and full configuration and adoption details.\n",
    "I have not trained this model on my problem. The purpose of including this code was to show how we can use the pretrained models for our problems and the gory part of adoption which has been specified.\n",
    ".\\\n",
    ".\\\n",
    "Moreover, the comments have been added to explain choices and meaning of keyword arguments."
   ]
  },
  {
   "cell_type": "code",
   "execution_count": 32,
   "id": "aa35ccfe",
   "metadata": {},
   "outputs": [],
   "source": [
    "\n",
    "base_model= keras.applications.InceptionResNetV2(\n",
    "    include_top=False,# Since we want to specify our own fully connected layers and input layer\n",
    "    weights=\"imagenet\",\n",
    "    input_shape=(256,256,3), # When 'include_top=False', then you have to specify input shape\n",
    "\n",
    "    classifier_activation=\"softmax\",# Since we have 3 classes\n",
    ")\n",
    "\n",
    "# Making sure that the conv net layers are not trained again \n",
    "for layer in base_model.layers:\n",
    "    layer.trainable= False\n",
    "\n",
    "\n",
    "# This thing down here is to get the output of the model\n",
    "# just before it would have flattened it and passed it to fully connnected layers\n",
    "x = base_model.output\n",
    "\n",
    "\n",
    "x =Flatten()(x)  # GlobalAveragePooling2D would have been a better choice for Inception model \n",
    "                 # I am using Flatten without any reason\n",
    "    \n",
    "    \n",
    "x = Dense(64, activation='relu')(x) # Our fully connected layer\n",
    "\n",
    "\n",
    "predictions = Dense(3, activation='softmax')(x)  # Output layer for 3 classes\n",
    "\n",
    "# Combining the pretrained and newly defined architecture of our model\n",
    "model = Model(inputs=base_model.input, outputs=predictions)\n"
   ]
  },
  {
   "cell_type": "code",
   "execution_count": 16,
   "id": "a9f7bdff",
   "metadata": {},
   "outputs": [],
   "source": [
    "\n",
    "model.compile(optimizer='adam', loss=\"sparse_categorical_crossentropy\", metrics=['accuracy'])"
   ]
  },
  {
   "cell_type": "code",
   "execution_count": null,
   "id": "5fc58fe9",
   "metadata": {},
   "outputs": [],
   "source": [
    "model.fit(train_images, train_labels, validation_data=(val_images, val_labels), epochs=10, batch_size=32, callbacks=[early_stopping])"
   ]
  },
  {
   "cell_type": "code",
   "execution_count": null,
   "id": "ca87bfdb",
   "metadata": {},
   "outputs": [],
   "source": []
  }
 ],
 "metadata": {
  "kernelspec": {
   "display_name": "Python 3 (ipykernel)",
   "language": "python",
   "name": "python3"
  },
  "language_info": {
   "codemirror_mode": {
    "name": "ipython",
    "version": 3
   },
   "file_extension": ".py",
   "mimetype": "text/x-python",
   "name": "python",
   "nbconvert_exporter": "python",
   "pygments_lexer": "ipython3",
   "version": "3.11.5"
  },
  "varInspector": {
   "cols": {
    "lenName": 16,
    "lenType": 16,
    "lenVar": 40
   },
   "kernels_config": {
    "python": {
     "delete_cmd_postfix": "",
     "delete_cmd_prefix": "del ",
     "library": "var_list.py",
     "varRefreshCmd": "print(var_dic_list())"
    },
    "r": {
     "delete_cmd_postfix": ") ",
     "delete_cmd_prefix": "rm(",
     "library": "var_list.r",
     "varRefreshCmd": "cat(var_dic_list()) "
    }
   },
   "types_to_exclude": [
    "module",
    "function",
    "builtin_function_or_method",
    "instance",
    "_Feature"
   ],
   "window_display": false
  }
 },
 "nbformat": 4,
 "nbformat_minor": 5
}
